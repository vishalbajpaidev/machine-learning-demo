{
 "cells": [
  {
   "cell_type": "code",
   "execution_count": 2,
   "metadata": {},
   "outputs": [],
   "source": [
    "import numpy as np\n",
    "import matplotlib.pyplot as ppt"
   ]
  },
  {
   "cell_type": "code",
   "execution_count": 9,
   "metadata": {},
   "outputs": [],
   "source": [
    "X = np.array([1,2,3,4])\n",
    "Y = np.array([2,4,5,9])\n",
    "X = X.reshape(len(X),1)\n",
    "Y = Y.reshape(len(Y),1)"
   ]
  },
  {
   "cell_type": "code",
   "execution_count": 1,
   "metadata": {},
   "outputs": [
    {
     "ename": "NameError",
     "evalue": "name 'ppt' is not defined",
     "output_type": "error",
     "traceback": [
      "\u001b[0;31m---------------------------------------------------------------------------\u001b[0m",
      "\u001b[0;31mNameError\u001b[0m                                 Traceback (most recent call last)",
      "\u001b[0;32m<ipython-input-1-9a8e5b7977a0>\u001b[0m in \u001b[0;36m<module>\u001b[0;34m\u001b[0m\n\u001b[0;32m----> 1\u001b[0;31m \u001b[0mppt\u001b[0m\u001b[0;34m.\u001b[0m\u001b[0mplot\u001b[0m\u001b[0;34m(\u001b[0m\u001b[0mX\u001b[0m\u001b[0;34m,\u001b[0m\u001b[0mY\u001b[0m\u001b[0;34m,\u001b[0m\u001b[0;34m'o'\u001b[0m\u001b[0;34m)\u001b[0m\u001b[0;34m\u001b[0m\u001b[0m\n\u001b[0m\u001b[1;32m      2\u001b[0m \u001b[0mppt\u001b[0m\u001b[0;34m.\u001b[0m\u001b[0mplot\u001b[0m\u001b[0;34m(\u001b[0m\u001b[0mX\u001b[0m\u001b[0;34m.\u001b[0m\u001b[0mmean\u001b[0m\u001b[0;34m(\u001b[0m\u001b[0;34m)\u001b[0m\u001b[0;34m,\u001b[0m\u001b[0mY\u001b[0m\u001b[0;34m.\u001b[0m\u001b[0mmean\u001b[0m\u001b[0;34m(\u001b[0m\u001b[0;34m)\u001b[0m\u001b[0;34m,\u001b[0m\u001b[0;34m'k:'\u001b[0m\u001b[0;34m)\u001b[0m\u001b[0;34m\u001b[0m\u001b[0m\n\u001b[1;32m      3\u001b[0m \u001b[0mx_min\u001b[0m\u001b[0;34m,\u001b[0m\u001b[0mx_max\u001b[0m \u001b[0;34m=\u001b[0m \u001b[0mX\u001b[0m\u001b[0;34m.\u001b[0m\u001b[0mmin\u001b[0m\u001b[0;34m(\u001b[0m\u001b[0;34m)\u001b[0m\u001b[0;34m,\u001b[0m\u001b[0mX\u001b[0m\u001b[0;34m.\u001b[0m\u001b[0mmax\u001b[0m\u001b[0;34m(\u001b[0m\u001b[0;34m)\u001b[0m\u001b[0;34m\u001b[0m\u001b[0m\n\u001b[1;32m      4\u001b[0m \u001b[0mu\u001b[0m\u001b[0;34m=\u001b[0m\u001b[0;36m0\u001b[0m\u001b[0;34m\u001b[0m\u001b[0m\n\u001b[1;32m      5\u001b[0m \u001b[0md\u001b[0m\u001b[0;34m=\u001b[0m\u001b[0;36m0\u001b[0m\u001b[0;34m\u001b[0m\u001b[0m\n",
      "\u001b[0;31mNameError\u001b[0m: name 'ppt' is not defined"
     ]
    }
   ],
   "source": [
    "ppt.plot(X,Y,'o')\n",
    "ppt.plot(X.mean(),Y.mean(),'k:')\n",
    "x_min,x_max = X.min(),X.max()\n",
    "u=0\n",
    "d=0\n",
    "for i in range(len(X)): \n",
    "    u += (X[i] - X.mean()) * (Y[i] - Y.mean())\n",
    "    d += (X[i] - X.mean()) ** 2\n",
    "m = u/d\n",
    "# y = mx+c\n",
    "c = Y.mean() - m * X.mean()\n",
    "y = m * np.array([x_min,x_max]) + c\n",
    "ppt.plot(np.array([x_min,x_max]),y,\"om--\")\n",
    "m,c,y\n"
   ]
  },
  {
   "cell_type": "code",
   "execution_count": 62,
   "metadata": {},
   "outputs": [
    {
     "data": {
      "text/plain": [
       "[<matplotlib.lines.Line2D at 0x11c0086d8>]"
      ]
     },
     "execution_count": 62,
     "metadata": {},
     "output_type": "execute_result"
    },
    {
     "data": {
      "image/png": "[encoded data removed]",
      "text/plain": [
       "<Figure size 432x288 with 1 Axes>"
      ]
     },
     "metadata": {
      "needs_background": "light"
     },
     "output_type": "display_data"
    }
   ],
   "source": [
    "from sklearn.linear_model import LinearRegression\n",
    "model = LinearRegression()\n",
    "model.fit(X,Y)\n",
    "model.predict(X)\n",
    "ppt.plot(X,Y,'o')\n",
    "ppt.plot(X,model.predict(X),'k:')"
   ]
  },
  {
   "cell_type": "code",
   "execution_count": 101,
   "metadata": {},
   "outputs": [
    {
     "data": {
      "text/plain": [
       "array([-50.        , -47.07872178, -44.26634196, -41.56074983,\n",
       "       -38.95983472, -36.46148593, -34.06359277, -31.76404455,\n",
       "       -29.56073059, -27.4515402 , -25.43436267, -23.50708733,\n",
       "       -21.66760349, -19.91380045, -18.24356753, -16.65479404,\n",
       "       -15.14536928, -13.71318257, -12.35612322, -11.07208053,\n",
       "        -9.85894382,  -8.71460241,  -7.63694559,  -6.62386268,\n",
       "        -5.67324299,  -4.78297583,  -3.95095051,  -3.17505635,\n",
       "        -2.45318264,  -1.78321871,  -1.16305386,  -0.59057741,\n",
       "        -0.06367865,   0.41975309,   0.8618285 ,   1.26465828,\n",
       "         1.63035312,   1.9610237 ,   2.25878071,   2.52573485,\n",
       "         2.7639968 ,   2.97567726,   3.1628869 ,   3.32773643,\n",
       "         3.47233653,   3.5987979 ,   3.70923121,   3.80574716,\n",
       "         3.89045645,   3.96546975,   4.03289776,   4.09485117,\n",
       "         4.15344067,   4.21077695,   4.2689707 ,   4.3301326 ,\n",
       "         4.39637335,   4.46980364,   4.55253415,   4.64667558,\n",
       "         4.75433861,   4.87763394,   5.01867225,   5.17956424,\n",
       "         5.36242059,   5.56935199,   5.80246914,   6.06388271,\n",
       "         6.35570341,   6.68004193,   7.03900894,   7.43471514,\n",
       "         7.86927122,   8.34478788,   8.86337579,   9.42714565,\n",
       "        10.03820815,  10.69867398,  11.41065383,  12.17625838,\n",
       "        12.99759833,  13.87678437,  14.81592719,  15.81713747,\n",
       "        16.8825259 ,  18.01420318,  19.21428   ,  20.48486704,\n",
       "        21.82807499,  23.24601454,  24.74079639,  26.31453123,\n",
       "        27.96932973,  29.70730259,  31.53056051,  33.44121417,\n",
       "        35.44137426,  37.53315146,  39.71865648,  42.        ])"
      ]
     },
     "execution_count": 101,
     "metadata": {},
     "output_type": "execute_result"
    },
    {
     "data": {
      "image/png": "[encoded data removed]",
      "text/plain": [
       "<Figure size 432x288 with 1 Axes>"
      ]
     },
     "metadata": {
      "needs_background": "light"
     },
     "output_type": "display_data"
    }
   ],
   "source": [
    "# x = np.array([0,1,2,3,4,5])\n",
    "# y = np.array([0,0.8,0.9,0.1,-0.8,-1])\n",
    "x=X.reshape(len(X))\n",
    "y=Y.reshape(len(Y))\n",
    "p1=scipy.polyfit(x,y,3)\n",
    "# p2=scipy.polyfit(x,y,2)\n",
    "# p3=scipy.polyfit(x,y,3)\n",
    "xp = x\n",
    "xp=scipy.linspace(-2,6,100)\n",
    "%matplotlib inline\n",
    "ppt.plot(x,y,'o')\n",
    "ppt.plot(xp,scipy.polyval(p1,xp),'r-')\n",
    "# ppt.plot(xp,scipy.polyval(p2,xp),'b--')\n",
    "# ppt.plot(xp,scipy.polyval(p3,xp),'y:')\n",
    "scipy.polyval(p1,xp)"
   ]
  },
  {
   "cell_type": "code",
   "execution_count": null,
   "metadata": {},
   "outputs": [],
   "source": []
  }
 ],
 "metadata": {
  "kernelspec": {
   "display_name": "Python 3",
   "language": "python",
   "name": "python3"
  },
  "language_info": {
   "codemirror_mode": {
    "name": "ipython",
    "version": 3
   },
   "file_extension": ".py",
   "mimetype": "text/x-python",
   "name": "python",
   "nbconvert_exporter": "python",
   "pygments_lexer": "ipython3",
   "version": "3.7.0"
  }
 },
 "nbformat": 4,
 "nbformat_minor": 2
}
